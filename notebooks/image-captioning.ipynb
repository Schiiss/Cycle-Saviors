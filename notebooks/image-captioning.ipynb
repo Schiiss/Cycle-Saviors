{
 "cells": [
  {
   "cell_type": "code",
   "execution_count": 1,
   "metadata": {},
   "outputs": [
    {
     "name": "stderr",
     "output_type": "stream",
     "text": [
      "/home/vscode/.local/lib/python3.10/site-packages/tqdm/auto.py:21: TqdmWarning: IProgress not found. Please update jupyter and ipywidgets. See https://ipywidgets.readthedocs.io/en/stable/user_install.html\n",
      "  from .autonotebook import tqdm as notebook_tqdm\n",
      "Downloading (…)lve/main/config.json: 4.56kB [00:00, 2.09MB/s]\n",
      "Downloading pytorch_model.bin: 100%|██████████| 1.54G/1.54G [00:13<00:00, 117MB/s] \n"
     ]
    },
    {
     "ename": "",
     "evalue": "",
     "output_type": "error",
     "traceback": [
      "\u001b[1;31mCannot execute code, session has been disposed. Please try restarting the Kernel."
     ]
    },
    {
     "ename": "",
     "evalue": "",
     "output_type": "error",
     "traceback": [
      "\u001b[1;31mThe Kernel crashed while executing code in the the current cell or a previous cell. Please review the code in the cell(s) to identify a possible cause of the failure. Click <a href='https://aka.ms/vscodeJupyterKernelCrash'>here</a> for more info. View Jupyter <a href='command:jupyter.viewOutput'>log</a> for further details."
     ]
    }
   ],
   "source": [
    "from PIL import Image\n",
    "from transformers import AutoProcessor, BlipForQuestionAnswering\n",
    "\n",
    "model = BlipForQuestionAnswering.from_pretrained(\"Salesforce/blip-vqa-base\")\n",
    "processor = AutoProcessor.from_pretrained(\"Salesforce/blip-vqa-base\")\n",
    "\n",
    "image_filename = \"large_IMG_1704.jpeg\"\n",
    "image = Image.open(image_filename)\n",
    "\n",
    "# inference\n",
    "text = \"What is this photo of?\"\n",
    "inputs = processor(images=image, text=text, return_tensors=\"pt\")\n",
    "outputs = model.generate(**inputs)\n",
    "print(text + ': ' + processor.decode(outputs[0], skip_special_tokens=True))\n",
    "\n",
    "# inference\n",
    "text = \"What color is the bike?\"\n",
    "inputs = processor(images=image, text=text, return_tensors=\"pt\")\n",
    "outputs = model.generate(**inputs)\n",
    "print(text + ': ' + processor.decode(outputs[0], skip_special_tokens=True))\n",
    "\n",
    "# inference\n",
    "text = \"What kind of bike is this?\"\n",
    "inputs = processor(images=image, text=text, return_tensors=\"pt\")\n",
    "outputs = model.generate(**inputs)\n",
    "print(text + ': ' + processor.decode(outputs[0], skip_special_tokens=True))\n",
    "\n",
    "context = [\n",
    "   (\"What does this image show?\", \"a bike\"),\n",
    "   (\"What color is it?\", \"black\"),\n",
    "   (\"What kind is it?\", \"a mountain bike\"),\n",
    "]\n",
    "question = \"What brand is it?\"\n",
    "template = \"Question: {} Answer: {}.\"\n",
    "\n",
    "prompt = \" \".join([template.format(context[i][0], context[i][1]) for i in range(len(context))]) + \" Question: \" + question + \" Answer:\"\n",
    "\n",
    "inputs = processor(images=image, text=prompt, return_tensors=\"pt\")\n",
    "outputs = model.generate(**inputs)\n",
    "print(prompt + ': ' + processor.decode(outputs[0], skip_special_tokens=True))\n"
   ]
  },
  {
   "cell_type": "code",
   "execution_count": null,
   "metadata": {},
   "outputs": [],
   "source": []
  }
 ],
 "metadata": {
  "kernelspec": {
   "display_name": "Python 3",
   "language": "python",
   "name": "python3"
  },
  "language_info": {
   "codemirror_mode": {
    "name": "ipython",
    "version": 3
   },
   "file_extension": ".py",
   "mimetype": "text/x-python",
   "name": "python",
   "nbconvert_exporter": "python",
   "pygments_lexer": "ipython3",
   "version": "3.10.12"
  },
  "orig_nbformat": 4
 },
 "nbformat": 4,
 "nbformat_minor": 2
}
